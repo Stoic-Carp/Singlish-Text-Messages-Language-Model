{
 "cells": [
  {
   "cell_type": "markdown",
   "metadata": {},
   "source": [
    "## Analyzing and trying a baseline ngram language model of the NUS SMS Corpus\n",
    "\n",
    "This is a corpus of SMS (Short Message Service) messages collected for research at the Department of Computer Science at the National University of Singapore. This dataset consists of 55,835 SMS messages. The messages largely originate from Singaporeans and mostly from students attending the University. These messages were collected from volunteers who were made aware that their contributions were going to be made publicly available. The data collectors opportunistically collected as much metadata about the messages and their senders as possible, so as to enable different types of analyses.\n",
    "\n",
    "Data is available from: https://www.kaggle.com/rtatman/the-national-university-of-singapore-sms-corpus \n",
    "\n",
    "Tao Chen and Min-Yen Kan (2013). Creating a Live, Public Short Message Service Corpus: The NUS SMS Corpus. Language Resources and Evaluation, 47(2)(2013), pages 299-355."
   ]
  },
  {
   "cell_type": "code",
   "execution_count": 1,
   "metadata": {},
   "outputs": [],
   "source": [
    "import json\n",
    "import pandas as pd\n",
    "from statistics import mean, median, mode"
   ]
  },
  {
   "cell_type": "code",
   "execution_count": 2,
   "metadata": {},
   "outputs": [],
   "source": [
    "pd.set_option('max_colwidth', 160)"
   ]
  },
  {
   "cell_type": "code",
   "execution_count": 3,
   "metadata": {},
   "outputs": [],
   "source": [
    "with open('data/smsCorpus_en_2015.03.09_all.json', encoding='utf-8') as f:\n",
    "    data = json.load(f)"
   ]
  },
  {
   "cell_type": "code",
   "execution_count": 4,
   "metadata": {},
   "outputs": [
    {
     "data": {
      "text/plain": [
       "{'@id': 10220,\n",
       " 'text': {'$': 'm going to be late leh.'},\n",
       " 'source': {'srcNumber': {'$': 51},\n",
       "  'phoneModel': {'@manufactuer': 'unknown', '@smartphone': 'unknown'},\n",
       "  'userProfile': {'userID': {'$': 51},\n",
       "   'age': {'$': 'unknown'},\n",
       "   'gender': {'$': 'unknown'},\n",
       "   'nativeSpeaker': {'$': 'unknown'},\n",
       "   'country': {'$': 'SG'},\n",
       "   'city': {'$': 'unknown'},\n",
       "   'experience': {'$': 'unknown'},\n",
       "   'frequency': {'$': 'unknown'},\n",
       "   'inputMethod': {'$': 'unknown'}}},\n",
       " 'destination': {'@country': 'unknown', 'destNumber': {'$': 'unknown'}},\n",
       " 'messageProfile': {'@language': 'en', '@time': 'unknown', '@type': 'unknown'},\n",
       " 'collectionMethod': {'@collector': 'howyijue',\n",
       "  '@method': 'unknown',\n",
       "  '@time': '2003/4'}}"
      ]
     },
     "execution_count": 4,
     "metadata": {},
     "output_type": "execute_result"
    }
   ],
   "source": [
    "data['smsCorpus']['message'][100]"
   ]
  },
  {
   "cell_type": "code",
   "execution_count": 5,
   "metadata": {},
   "outputs": [],
   "source": [
    "messages = data['smsCorpus']['message']"
   ]
  },
  {
   "cell_type": "code",
   "execution_count": 6,
   "metadata": {},
   "outputs": [
    {
     "name": "stdout",
     "output_type": "stream",
     "text": [
      "Total SMS count: 55835\n"
     ]
    }
   ],
   "source": [
    "print(f'Total SMS count: {len(messages)}')"
   ]
  },
  {
   "cell_type": "code",
   "execution_count": 7,
   "metadata": {},
   "outputs": [],
   "source": [
    "full_df = pd.DataFrame(messages)"
   ]
  },
  {
   "cell_type": "code",
   "execution_count": 8,
   "metadata": {},
   "outputs": [
    {
     "data": {
      "text/html": [
       "<div>\n",
       "<style scoped>\n",
       "    .dataframe tbody tr th:only-of-type {\n",
       "        vertical-align: middle;\n",
       "    }\n",
       "\n",
       "    .dataframe tbody tr th {\n",
       "        vertical-align: top;\n",
       "    }\n",
       "\n",
       "    .dataframe thead th {\n",
       "        text-align: right;\n",
       "    }\n",
       "</style>\n",
       "<table border=\"1\" class=\"dataframe\">\n",
       "  <thead>\n",
       "    <tr style=\"text-align: right;\">\n",
       "      <th></th>\n",
       "      <th>text</th>\n",
       "    </tr>\n",
       "  </thead>\n",
       "  <tbody>\n",
       "    <tr>\n",
       "      <th>0</th>\n",
       "      <td>{'$': 'Bugis oso near wat...'}</td>\n",
       "    </tr>\n",
       "    <tr>\n",
       "      <th>1</th>\n",
       "      <td>{'$': 'Go until jurong point, crazy.. Available only in bugis n great world la e buffet... Cine there got amore wat...'}</td>\n",
       "    </tr>\n",
       "    <tr>\n",
       "      <th>2</th>\n",
       "      <td>{'$': 'I dunno until when... Lets go learn pilates...'}</td>\n",
       "    </tr>\n",
       "    <tr>\n",
       "      <th>3</th>\n",
       "      <td>{'$': 'Den only weekdays got special price... Haiz... Cant eat liao... Cut nails oso muz wait until i finish drivin wat, lunch still muz eat wat...'}</td>\n",
       "    </tr>\n",
       "    <tr>\n",
       "      <th>4</th>\n",
       "      <td>{'$': 'Meet after lunch la...'}</td>\n",
       "    </tr>\n",
       "  </tbody>\n",
       "</table>\n",
       "</div>"
      ],
      "text/plain": [
       "                                                                                                                                                    text\n",
       "0                                                                                                                         {'$': 'Bugis oso near wat...'}\n",
       "1                               {'$': 'Go until jurong point, crazy.. Available only in bugis n great world la e buffet... Cine there got amore wat...'}\n",
       "2                                                                                                {'$': 'I dunno until when... Lets go learn pilates...'}\n",
       "3  {'$': 'Den only weekdays got special price... Haiz... Cant eat liao... Cut nails oso muz wait until i finish drivin wat, lunch still muz eat wat...'}\n",
       "4                                                                                                                        {'$': 'Meet after lunch la...'}"
      ]
     },
     "execution_count": 8,
     "metadata": {},
     "output_type": "execute_result"
    }
   ],
   "source": [
    "sms_df = full_df[['text']]\n",
    "sms_df.head()"
   ]
  },
  {
   "cell_type": "code",
   "execution_count": 9,
   "metadata": {},
   "outputs": [],
   "source": [
    "def clean_sms(sms_text):\n",
    "    sms = str(sms_text).lower()\n",
    "    return sms[7:-2]"
   ]
  },
  {
   "cell_type": "code",
   "execution_count": 10,
   "metadata": {},
   "outputs": [
    {
     "name": "stderr",
     "output_type": "stream",
     "text": [
      "G:\\Anaconda3\\envs\\pytorch\\lib\\site-packages\\ipykernel_launcher.py:1: SettingWithCopyWarning: \n",
      "A value is trying to be set on a copy of a slice from a DataFrame.\n",
      "Try using .loc[row_indexer,col_indexer] = value instead\n",
      "\n",
      "See the caveats in the documentation: https://pandas.pydata.org/pandas-docs/stable/user_guide/indexing.html#returning-a-view-versus-a-copy\n",
      "  \"\"\"Entry point for launching an IPython kernel.\n"
     ]
    }
   ],
   "source": [
    "sms_df['clean_text'] = sms_df['text'].apply(clean_sms)"
   ]
  },
  {
   "cell_type": "code",
   "execution_count": 11,
   "metadata": {},
   "outputs": [
    {
     "data": {
      "text/html": [
       "<div>\n",
       "<style scoped>\n",
       "    .dataframe tbody tr th:only-of-type {\n",
       "        vertical-align: middle;\n",
       "    }\n",
       "\n",
       "    .dataframe tbody tr th {\n",
       "        vertical-align: top;\n",
       "    }\n",
       "\n",
       "    .dataframe thead th {\n",
       "        text-align: right;\n",
       "    }\n",
       "</style>\n",
       "<table border=\"1\" class=\"dataframe\">\n",
       "  <thead>\n",
       "    <tr style=\"text-align: right;\">\n",
       "      <th></th>\n",
       "      <th>text</th>\n",
       "      <th>clean_text</th>\n",
       "    </tr>\n",
       "  </thead>\n",
       "  <tbody>\n",
       "    <tr>\n",
       "      <th>0</th>\n",
       "      <td>{'$': 'Bugis oso near wat...'}</td>\n",
       "      <td>bugis oso near wat...</td>\n",
       "    </tr>\n",
       "    <tr>\n",
       "      <th>1</th>\n",
       "      <td>{'$': 'Go until jurong point, crazy.. Available only in bugis n great world la e buffet... Cine there got amore wat...'}</td>\n",
       "      <td>go until jurong point, crazy.. available only in bugis n great world la e buffet... cine there got amore wat...</td>\n",
       "    </tr>\n",
       "    <tr>\n",
       "      <th>2</th>\n",
       "      <td>{'$': 'I dunno until when... Lets go learn pilates...'}</td>\n",
       "      <td>i dunno until when... lets go learn pilates...</td>\n",
       "    </tr>\n",
       "    <tr>\n",
       "      <th>3</th>\n",
       "      <td>{'$': 'Den only weekdays got special price... Haiz... Cant eat liao... Cut nails oso muz wait until i finish drivin wat, lunch still muz eat wat...'}</td>\n",
       "      <td>den only weekdays got special price... haiz... cant eat liao... cut nails oso muz wait until i finish drivin wat, lunch still muz eat wat...</td>\n",
       "    </tr>\n",
       "    <tr>\n",
       "      <th>4</th>\n",
       "      <td>{'$': 'Meet after lunch la...'}</td>\n",
       "      <td>meet after lunch la...</td>\n",
       "    </tr>\n",
       "    <tr>\n",
       "      <th>5</th>\n",
       "      <td>{'$': 'm walking in citylink now ü faster come down... Me very hungry...'}</td>\n",
       "      <td>m walking in citylink now ü faster come down... me very hungry...</td>\n",
       "    </tr>\n",
       "    <tr>\n",
       "      <th>6</th>\n",
       "      <td>{'$': '5 nights...We nt staying at port step liao...Too ex'}</td>\n",
       "      <td>5 nights...we nt staying at port step liao...too ex</td>\n",
       "    </tr>\n",
       "    <tr>\n",
       "      <th>7</th>\n",
       "      <td>{'$': 'Hey pple...$700 or $900 for 5 nights...Excellent location wif breakfast hamper!!!'}</td>\n",
       "      <td>hey pple...$700 or $900 for 5 nights...excellent location wif breakfast hamper!!!</td>\n",
       "    </tr>\n",
       "    <tr>\n",
       "      <th>8</th>\n",
       "      <td>{'$': 'Yun ah.the ubi one say if ü wan call by tomorrow.call 67441233 look for irene.ere only got bus8,22,65,61,66,382. Ubi cres,ubi tech park.6ph for 1st 5...</td>\n",
       "      <td>yun ah.the ubi one say if ü wan call by tomorrow.call 67441233 look for irene.ere only got bus8,22,65,61,66,382. ubi cres,ubi tech park.6ph for 1st 5wkg day...</td>\n",
       "    </tr>\n",
       "    <tr>\n",
       "      <th>9</th>\n",
       "      <td>{'$': 'Hey tmr maybe can meet you at yck'}</td>\n",
       "      <td>hey tmr maybe can meet you at yck</td>\n",
       "    </tr>\n",
       "    <tr>\n",
       "      <th>10</th>\n",
       "      <td>{'$': 'Oh...i asked for fun. Haha...take care. ü'}</td>\n",
       "      <td>oh...i asked for fun. haha...take care. ü</td>\n",
       "    </tr>\n",
       "    <tr>\n",
       "      <th>11</th>\n",
       "      <td>{'$': 'We are supposed to meet to discuss abt our trip... Thought xuhui told you? In the afternoon. Thought we can go for lesson after that'}</td>\n",
       "      <td>we are supposed to meet to discuss abt our trip... thought xuhui told you? in the afternoon. thought we can go for lesson after that</td>\n",
       "    </tr>\n",
       "    <tr>\n",
       "      <th>12</th>\n",
       "      <td>{'$': 't finish my film yet...'}</td>\n",
       "      <td>t finish my film yet...</td>\n",
       "    </tr>\n",
       "    <tr>\n",
       "      <th>13</th>\n",
       "      <td>{'$': 'm having dinner with my cousin...'}</td>\n",
       "      <td>m having dinner with my cousin...</td>\n",
       "    </tr>\n",
       "    <tr>\n",
       "      <th>14</th>\n",
       "      <td>{'$': 'Oh... Kay... On sat right?'}</td>\n",
       "      <td>oh... kay... on sat right?</td>\n",
       "    </tr>\n",
       "    <tr>\n",
       "      <th>15</th>\n",
       "      <td>{'$': 'I need... Coz i never go before'}</td>\n",
       "      <td>i need... coz i never go before</td>\n",
       "    </tr>\n",
       "    <tr>\n",
       "      <th>16</th>\n",
       "      <td>{'$': 's a basic yoga course... at bugis... We can go for that... Pilates intro next sat.... Tell me what time you r free'}</td>\n",
       "      <td>s a basic yoga course... at bugis... we can go for that... pilates intro next sat.... tell me what time you r free</td>\n",
       "    </tr>\n",
       "    <tr>\n",
       "      <th>17</th>\n",
       "      <td>{'$': 'I am going to sao mu today. Will be done only at 12'}</td>\n",
       "      <td>i am going to sao mu today. will be done only at 12</td>\n",
       "    </tr>\n",
       "    <tr>\n",
       "      <th>18</th>\n",
       "      <td>{'$': 'Hey gals...U all wanna meet 4 dinner at nìte?'}</td>\n",
       "      <td>hey gals...u all wanna meet 4 dinner at nìte?</td>\n",
       "    </tr>\n",
       "    <tr>\n",
       "      <th>19</th>\n",
       "      <td>{'$': 'Jos ask if u wana meet up?'}</td>\n",
       "      <td>jos ask if u wana meet up?</td>\n",
       "    </tr>\n",
       "    <tr>\n",
       "      <th>20</th>\n",
       "      <td>{'$': 'Haiyoh... Maybe your hamster was jealous of million'}</td>\n",
       "      <td>haiyoh... maybe your hamster was jealous of million</td>\n",
       "    </tr>\n",
       "    <tr>\n",
       "      <th>21</th>\n",
       "      <td>{'$': 'is your hamster dead? Hey so tmr i meet you at 1pm orchard mrt?'}</td>\n",
       "      <td>is your hamster dead? hey so tmr i meet you at 1pm orchard mrt?</td>\n",
       "    </tr>\n",
       "    <tr>\n",
       "      <th>22</th>\n",
       "      <td>{'$': 've booked the pilates and yoga lesson already... Haha'}</td>\n",
       "      <td>ve booked the pilates and yoga lesson already... haha</td>\n",
       "    </tr>\n",
       "    <tr>\n",
       "      <th>23</th>\n",
       "      <td>{'$': 'Yup... I havent been there before... You want to go for the yoga? I can call up to book'}</td>\n",
       "      <td>yup... i havent been there before... you want to go for the yoga? i can call up to book</td>\n",
       "    </tr>\n",
       "    <tr>\n",
       "      <th>24</th>\n",
       "      <td>{'$': 'K... Must book a not huh? so going for yoga basic on sunday?'}</td>\n",
       "      <td>k... must book a not huh? so going for yoga basic on sunday?</td>\n",
       "    </tr>\n",
       "    <tr>\n",
       "      <th>25</th>\n",
       "      <td>{'$': 'Hey so this sat are we going for the intro pilates only? Or the kickboxing too?'}</td>\n",
       "      <td>hey so this sat are we going for the intro pilates only? or the kickboxing too?</td>\n",
       "    </tr>\n",
       "    <tr>\n",
       "      <th>26</th>\n",
       "      <td>{'$': 'Sat right? Okay thanks...'}</td>\n",
       "      <td>sat right? okay thanks...</td>\n",
       "    </tr>\n",
       "    <tr>\n",
       "      <th>27</th>\n",
       "      <td>{'$': 'Yup... From what i remb... I think should be can book...'}</td>\n",
       "      <td>yup... from what i remb... i think should be can book...</td>\n",
       "    </tr>\n",
       "    <tr>\n",
       "      <th>28</th>\n",
       "      <td>{'$': 'm going to get specs. My membership is PX3748'}</td>\n",
       "      <td>m going to get specs. my membership is px3748</td>\n",
       "    </tr>\n",
       "    <tr>\n",
       "      <th>29</th>\n",
       "      <td>{'$': 'We can go 4 e normal pilates after our intro...'}</td>\n",
       "      <td>we can go 4 e normal pilates after our intro...</td>\n",
       "    </tr>\n",
       "    <tr>\n",
       "      <th>30</th>\n",
       "      <td>{'$': 'Sun ah... Thk mayb can if dun have anythin on... Thk have to book e lesson... E pilates is at orchard mrt u noe hor...'}</td>\n",
       "      <td>sun ah... thk mayb can if dun have anythin on... thk have to book e lesson... e pilates is at orchard mrt u noe hor...</td>\n",
       "    </tr>\n",
       "    <tr>\n",
       "      <th>31</th>\n",
       "      <td>{'$': 'Thk shld b can... Ya, i wana go 4 lessons... Haha, can go for one whole stretch...'}</td>\n",
       "      <td>thk shld b can... ya, i wana go 4 lessons... haha, can go for one whole stretch...</td>\n",
       "    </tr>\n",
       "    <tr>\n",
       "      <th>32</th>\n",
       "      <td>{'$': 'Sounds gd... Haha... Can... Wah, u yan jiu so fast liao...'}</td>\n",
       "      <td>sounds gd... haha... can... wah, u yan jiu so fast liao...</td>\n",
       "    </tr>\n",
       "    <tr>\n",
       "      <th>33</th>\n",
       "      <td>{'$': 'Wah... Okie okie... Muz make use of e unlimited... Haha...'}</td>\n",
       "      <td>wah... okie okie... muz make use of e unlimited... haha...</td>\n",
       "    </tr>\n",
       "    <tr>\n",
       "      <th>34</th>\n",
       "      <td>{'$': 'll go yan jiu den msg u...'}</td>\n",
       "      <td>ll go yan jiu den msg u...</td>\n",
       "    </tr>\n",
       "    <tr>\n",
       "      <th>35</th>\n",
       "      <td>{'$': 'K.. I yan jiu liao... Sat we can go 4 bugis vill one frm 10 to 3 den hop to parco 4 nb. Sun can go cine frm 1030 to 2, den hop to orc mrt 4 hip hop a...</td>\n",
       "      <td>k.. i yan jiu liao... sat we can go 4 bugis vill one frm 10 to 3 den hop to parco 4 nb. sun can go cine frm 1030 to 2, den hop to orc mrt 4 hip hop at 4...</td>\n",
       "    </tr>\n",
       "    <tr>\n",
       "      <th>36</th>\n",
       "      <td>{'$': 'll go yan jiu too... We can skip ard oso, go cine den go mrt one, blah blah blah...'}</td>\n",
       "      <td>ll go yan jiu too... we can skip ard oso, go cine den go mrt one, blah blah blah...</td>\n",
       "    </tr>\n",
       "    <tr>\n",
       "      <th>37</th>\n",
       "      <td>{'$': 'Nope... Juz off from work...'}</td>\n",
       "      <td>nope... juz off from work...</td>\n",
       "    </tr>\n",
       "    <tr>\n",
       "      <th>38</th>\n",
       "      <td>{'$': 'Oh oh... Wasted... Den muz chiong on sat n sun liao...'}</td>\n",
       "      <td>oh oh... wasted... den muz chiong on sat n sun liao...</td>\n",
       "    </tr>\n",
       "    <tr>\n",
       "      <th>39</th>\n",
       "      <td>{'$': 'Haha... Sounds crazy, dunno can tahan anot...'}</td>\n",
       "      <td>haha... sounds crazy, dunno can tahan anot...</td>\n",
       "    </tr>\n",
       "    <tr>\n",
       "      <th>40</th>\n",
       "      <td>{'$': 'Hmmm.. Thk sure got time to hop ard... Ya, can go 4 free abt... Muz call u to discuss liao...'}</td>\n",
       "      <td>hmmm.. thk sure got time to hop ard... ya, can go 4 free abt... muz call u to discuss liao...</td>\n",
       "    </tr>\n",
       "    <tr>\n",
       "      <th>41</th>\n",
       "      <td>{'$': 'Oh... I was thkin of goin yogasana at 10 den no nd to go at 3 den can rush to parco 4 nb... Okie lor, u call me when ready...'}</td>\n",
       "      <td>oh... i was thkin of goin yogasana at 10 den no nd to go at 3 den can rush to parco 4 nb... okie lor, u call me when ready...</td>\n",
       "    </tr>\n",
       "    <tr>\n",
       "      <th>42</th>\n",
       "      <td>{'$': 'After my work ah... Den 6 plus lor... U workin oso rite... Den go orchard lor, no other place to go liao...'}</td>\n",
       "      <td>after my work ah... den 6 plus lor... u workin oso rite... den go orchard lor, no other place to go liao...</td>\n",
       "    </tr>\n",
       "    <tr>\n",
       "      <th>43</th>\n",
       "      <td>{'$': 'Aiyo... U always c our ex one... I dunno abt mei, she haven reply... First time u reply so fast... Y so lucky not workin huh, got bao by ur sugardad ...</td>\n",
       "      <td>aiyo... u always c our ex one... i dunno abt mei, she haven reply... first time u reply so fast... y so lucky not workin huh, got bao by ur sugardad ah...gee..</td>\n",
       "    </tr>\n",
       "    <tr>\n",
       "      <th>44</th>\n",
       "      <td>{'$': 's ex wat... No ah, waitin 4 u to treat, somebody shld b rich liao...So gd, den u dun have to work frm tmr onwards...'}</td>\n",
       "      <td>s ex wat... no ah, waitin 4 u to treat, somebody shld b rich liao...so gd, den u dun have to work frm tmr onwards...</td>\n",
       "    </tr>\n",
       "    <tr>\n",
       "      <th>45</th>\n",
       "      <td>{'$': 'Oh oh... Den muz change plan liao... Go back have to yan jiu again...'}</td>\n",
       "      <td>oh oh... den muz change plan liao... go back have to yan jiu again...</td>\n",
       "    </tr>\n",
       "    <tr>\n",
       "      <th>46</th>\n",
       "      <td>{'$': 's nt much lesson to go if we attend kb on sat...'}</td>\n",
       "      <td>s nt much lesson to go if we attend kb on sat...</td>\n",
       "    </tr>\n",
       "    <tr>\n",
       "      <th>47</th>\n",
       "      <td>{'$': 'Den wat will e schedule b lk on sun?'}</td>\n",
       "      <td>den wat will e schedule b lk on sun?</td>\n",
       "    </tr>\n",
       "    <tr>\n",
       "      <th>48</th>\n",
       "      <td>{'$': 'Eh den sat u book e kb liao huh...'}</td>\n",
       "      <td>eh den sat u book e kb liao huh...</td>\n",
       "    </tr>\n",
       "    <tr>\n",
       "      <th>49</th>\n",
       "      <td>{'$': 'Yup... Hey then one day on fri we can ask miwa and jiayin take leave go karaoke'}</td>\n",
       "      <td>yup... hey then one day on fri we can ask miwa and jiayin take leave go karaoke</td>\n",
       "    </tr>\n",
       "  </tbody>\n",
       "</table>\n",
       "</div>"
      ],
      "text/plain": [
       "                                                                                                                                                               text  \\\n",
       "0                                                                                                                                    {'$': 'Bugis oso near wat...'}   \n",
       "1                                          {'$': 'Go until jurong point, crazy.. Available only in bugis n great world la e buffet... Cine there got amore wat...'}   \n",
       "2                                                                                                           {'$': 'I dunno until when... Lets go learn pilates...'}   \n",
       "3             {'$': 'Den only weekdays got special price... Haiz... Cant eat liao... Cut nails oso muz wait until i finish drivin wat, lunch still muz eat wat...'}   \n",
       "4                                                                                                                                   {'$': 'Meet after lunch la...'}   \n",
       "5                                                                                        {'$': 'm walking in citylink now ü faster come down... Me very hungry...'}   \n",
       "6                                                                                                      {'$': '5 nights...We nt staying at port step liao...Too ex'}   \n",
       "7                                                                        {'$': 'Hey pple...$700 or $900 for 5 nights...Excellent location wif breakfast hamper!!!'}   \n",
       "8   {'$': 'Yun ah.the ubi one say if ü wan call by tomorrow.call 67441233 look for irene.ere only got bus8,22,65,61,66,382. Ubi cres,ubi tech park.6ph for 1st 5...   \n",
       "9                                                                                                                        {'$': 'Hey tmr maybe can meet you at yck'}   \n",
       "10                                                                                                               {'$': 'Oh...i asked for fun. Haha...take care. ü'}   \n",
       "11                    {'$': 'We are supposed to meet to discuss abt our trip... Thought xuhui told you? In the afternoon. Thought we can go for lesson after that'}   \n",
       "12                                                                                                                                 {'$': 't finish my film yet...'}   \n",
       "13                                                                                                                       {'$': 'm having dinner with my cousin...'}   \n",
       "14                                                                                                                              {'$': 'Oh... Kay... On sat right?'}   \n",
       "15                                                                                                                         {'$': 'I need... Coz i never go before'}   \n",
       "16                                      {'$': 's a basic yoga course... at bugis... We can go for that... Pilates intro next sat.... Tell me what time you r free'}   \n",
       "17                                                                                                     {'$': 'I am going to sao mu today. Will be done only at 12'}   \n",
       "18                                                                                                           {'$': 'Hey gals...U all wanna meet 4 dinner at nìte?'}   \n",
       "19                                                                                                                              {'$': 'Jos ask if u wana meet up?'}   \n",
       "20                                                                                                     {'$': 'Haiyoh... Maybe your hamster was jealous of million'}   \n",
       "21                                                                                         {'$': 'is your hamster dead? Hey so tmr i meet you at 1pm orchard mrt?'}   \n",
       "22                                                                                                   {'$': 've booked the pilates and yoga lesson already... Haha'}   \n",
       "23                                                                 {'$': 'Yup... I havent been there before... You want to go for the yoga? I can call up to book'}   \n",
       "24                                                                                            {'$': 'K... Must book a not huh? so going for yoga basic on sunday?'}   \n",
       "25                                                                         {'$': 'Hey so this sat are we going for the intro pilates only? Or the kickboxing too?'}   \n",
       "26                                                                                                                               {'$': 'Sat right? Okay thanks...'}   \n",
       "27                                                                                                {'$': 'Yup... From what i remb... I think should be can book...'}   \n",
       "28                                                                                                           {'$': 'm going to get specs. My membership is PX3748'}   \n",
       "29                                                                                                         {'$': 'We can go 4 e normal pilates after our intro...'}   \n",
       "30                                  {'$': 'Sun ah... Thk mayb can if dun have anythin on... Thk have to book e lesson... E pilates is at orchard mrt u noe hor...'}   \n",
       "31                                                                      {'$': 'Thk shld b can... Ya, i wana go 4 lessons... Haha, can go for one whole stretch...'}   \n",
       "32                                                                                              {'$': 'Sounds gd... Haha... Can... Wah, u yan jiu so fast liao...'}   \n",
       "33                                                                                              {'$': 'Wah... Okie okie... Muz make use of e unlimited... Haha...'}   \n",
       "34                                                                                                                              {'$': 'll go yan jiu den msg u...'}   \n",
       "35  {'$': 'K.. I yan jiu liao... Sat we can go 4 bugis vill one frm 10 to 3 den hop to parco 4 nb. Sun can go cine frm 1030 to 2, den hop to orc mrt 4 hip hop a...   \n",
       "36                                                                     {'$': 'll go yan jiu too... We can skip ard oso, go cine den go mrt one, blah blah blah...'}   \n",
       "37                                                                                                                            {'$': 'Nope... Juz off from work...'}   \n",
       "38                                                                                                  {'$': 'Oh oh... Wasted... Den muz chiong on sat n sun liao...'}   \n",
       "39                                                                                                           {'$': 'Haha... Sounds crazy, dunno can tahan anot...'}   \n",
       "40                                                           {'$': 'Hmmm.. Thk sure got time to hop ard... Ya, can go 4 free abt... Muz call u to discuss liao...'}   \n",
       "41                           {'$': 'Oh... I was thkin of goin yogasana at 10 den no nd to go at 3 den can rush to parco 4 nb... Okie lor, u call me when ready...'}   \n",
       "42                                             {'$': 'After my work ah... Den 6 plus lor... U workin oso rite... Den go orchard lor, no other place to go liao...'}   \n",
       "43  {'$': 'Aiyo... U always c our ex one... I dunno abt mei, she haven reply... First time u reply so fast... Y so lucky not workin huh, got bao by ur sugardad ...   \n",
       "44                                    {'$': 's ex wat... No ah, waitin 4 u to treat, somebody shld b rich liao...So gd, den u dun have to work frm tmr onwards...'}   \n",
       "45                                                                                   {'$': 'Oh oh... Den muz change plan liao... Go back have to yan jiu again...'}   \n",
       "46                                                                                                        {'$': 's nt much lesson to go if we attend kb on sat...'}   \n",
       "47                                                                                                                    {'$': 'Den wat will e schedule b lk on sun?'}   \n",
       "48                                                                                                                      {'$': 'Eh den sat u book e kb liao huh...'}   \n",
       "49                                                                         {'$': 'Yup... Hey then one day on fri we can ask miwa and jiayin take leave go karaoke'}   \n",
       "\n",
       "                                                                                                                                                         clean_text  \n",
       "0                                                                                                                                             bugis oso near wat...  \n",
       "1                                                   go until jurong point, crazy.. available only in bugis n great world la e buffet... cine there got amore wat...  \n",
       "2                                                                                                                    i dunno until when... lets go learn pilates...  \n",
       "3                      den only weekdays got special price... haiz... cant eat liao... cut nails oso muz wait until i finish drivin wat, lunch still muz eat wat...  \n",
       "4                                                                                                                                            meet after lunch la...  \n",
       "5                                                                                                 m walking in citylink now ü faster come down... me very hungry...  \n",
       "6                                                                                                               5 nights...we nt staying at port step liao...too ex  \n",
       "7                                                                                 hey pple...$700 or $900 for 5 nights...excellent location wif breakfast hamper!!!  \n",
       "8   yun ah.the ubi one say if ü wan call by tomorrow.call 67441233 look for irene.ere only got bus8,22,65,61,66,382. ubi cres,ubi tech park.6ph for 1st 5wkg day...  \n",
       "9                                                                                                                                 hey tmr maybe can meet you at yck  \n",
       "10                                                                                                                        oh...i asked for fun. haha...take care. ü  \n",
       "11                             we are supposed to meet to discuss abt our trip... thought xuhui told you? in the afternoon. thought we can go for lesson after that  \n",
       "12                                                                                                                                          t finish my film yet...  \n",
       "13                                                                                                                                m having dinner with my cousin...  \n",
       "14                                                                                                                                       oh... kay... on sat right?  \n",
       "15                                                                                                                                  i need... coz i never go before  \n",
       "16                                               s a basic yoga course... at bugis... we can go for that... pilates intro next sat.... tell me what time you r free  \n",
       "17                                                                                                              i am going to sao mu today. will be done only at 12  \n",
       "18                                                                                                                    hey gals...u all wanna meet 4 dinner at nìte?  \n",
       "19                                                                                                                                       jos ask if u wana meet up?  \n",
       "20                                                                                                              haiyoh... maybe your hamster was jealous of million  \n",
       "21                                                                                                  is your hamster dead? hey so tmr i meet you at 1pm orchard mrt?  \n",
       "22                                                                                                            ve booked the pilates and yoga lesson already... haha  \n",
       "23                                                                          yup... i havent been there before... you want to go for the yoga? i can call up to book  \n",
       "24                                                                                                     k... must book a not huh? so going for yoga basic on sunday?  \n",
       "25                                                                                  hey so this sat are we going for the intro pilates only? or the kickboxing too?  \n",
       "26                                                                                                                                        sat right? okay thanks...  \n",
       "27                                                                                                         yup... from what i remb... i think should be can book...  \n",
       "28                                                                                                                    m going to get specs. my membership is px3748  \n",
       "29                                                                                                                  we can go 4 e normal pilates after our intro...  \n",
       "30                                           sun ah... thk mayb can if dun have anythin on... thk have to book e lesson... e pilates is at orchard mrt u noe hor...  \n",
       "31                                                                               thk shld b can... ya, i wana go 4 lessons... haha, can go for one whole stretch...  \n",
       "32                                                                                                       sounds gd... haha... can... wah, u yan jiu so fast liao...  \n",
       "33                                                                                                       wah... okie okie... muz make use of e unlimited... haha...  \n",
       "34                                                                                                                                       ll go yan jiu den msg u...  \n",
       "35      k.. i yan jiu liao... sat we can go 4 bugis vill one frm 10 to 3 den hop to parco 4 nb. sun can go cine frm 1030 to 2, den hop to orc mrt 4 hip hop at 4...  \n",
       "36                                                                              ll go yan jiu too... we can skip ard oso, go cine den go mrt one, blah blah blah...  \n",
       "37                                                                                                                                     nope... juz off from work...  \n",
       "38                                                                                                           oh oh... wasted... den muz chiong on sat n sun liao...  \n",
       "39                                                                                                                    haha... sounds crazy, dunno can tahan anot...  \n",
       "40                                                                    hmmm.. thk sure got time to hop ard... ya, can go 4 free abt... muz call u to discuss liao...  \n",
       "41                                    oh... i was thkin of goin yogasana at 10 den no nd to go at 3 den can rush to parco 4 nb... okie lor, u call me when ready...  \n",
       "42                                                      after my work ah... den 6 plus lor... u workin oso rite... den go orchard lor, no other place to go liao...  \n",
       "43  aiyo... u always c our ex one... i dunno abt mei, she haven reply... first time u reply so fast... y so lucky not workin huh, got bao by ur sugardad ah...gee..  \n",
       "44                                             s ex wat... no ah, waitin 4 u to treat, somebody shld b rich liao...so gd, den u dun have to work frm tmr onwards...  \n",
       "45                                                                                            oh oh... den muz change plan liao... go back have to yan jiu again...  \n",
       "46                                                                                                                 s nt much lesson to go if we attend kb on sat...  \n",
       "47                                                                                                                             den wat will e schedule b lk on sun?  \n",
       "48                                                                                                                               eh den sat u book e kb liao huh...  \n",
       "49                                                                                  yup... hey then one day on fri we can ask miwa and jiayin take leave go karaoke  "
      ]
     },
     "execution_count": 11,
     "metadata": {},
     "output_type": "execute_result"
    }
   ],
   "source": [
    "sms_df.head(50)"
   ]
  },
  {
   "cell_type": "code",
   "execution_count": 12,
   "metadata": {},
   "outputs": [],
   "source": [
    "sample_df = sms_df['clean_text'][0:1000]"
   ]
  },
  {
   "cell_type": "code",
   "execution_count": 13,
   "metadata": {},
   "outputs": [
    {
     "data": {
      "text/plain": [
       "0                                                                                                                           bugis oso near wat...\n",
       "1                                 go until jurong point, crazy.. available only in bugis n great world la e buffet... cine there got amore wat...\n",
       "2                                                                                                  i dunno until when... lets go learn pilates...\n",
       "3    den only weekdays got special price... haiz... cant eat liao... cut nails oso muz wait until i finish drivin wat, lunch still muz eat wat...\n",
       "4                                                                                                                          meet after lunch la...\n",
       "Name: clean_text, dtype: object"
      ]
     },
     "execution_count": 13,
     "metadata": {},
     "output_type": "execute_result"
    }
   ],
   "source": [
    "sample_df.head()"
   ]
  },
  {
   "cell_type": "code",
   "execution_count": 14,
   "metadata": {},
   "outputs": [],
   "source": [
    "with open('1000sms.txt', mode='w', encoding='utf-8') as f:\n",
    "    f.write(sample_df.to_string(header=False, index=False))"
   ]
  },
  {
   "cell_type": "code",
   "execution_count": 15,
   "metadata": {},
   "outputs": [],
   "source": [
    "train_singlish_df = full_df.sample(n=10000, random_state=42)\n",
    "train_singlish_df['clean_text'] = train_singlish_df['text'].apply(clean_sms)\n",
    "train_singlish_df = train_singlish_df['clean_text']\n",
    "\n",
    "test_singlish_df = sms_df.drop(train_singlish_df.index)\n",
    "test_singlish_df['clean_text'] = test_singlish_df['text'].apply(clean_sms) \n",
    "test_singlish_df = test_singlish_df['clean_text']"
   ]
  },
  {
   "cell_type": "code",
   "execution_count": 16,
   "metadata": {},
   "outputs": [
    {
     "data": {
      "text/plain": [
       "1126                                                                                                                                                 enjoy ur holiday..\n",
       "42937                                                                                                                                                      cosplay fail\n",
       "34044                                                                                                                                    woo wah got new bags again eh.\n",
       "46225    haha i was bored! hahaha fell asleep for awhile! hahaha hmm:p hahaokay! we do work then (: btw your personal statement! haha omg socool! what you all playing!\n",
       "31849                                                                                                            i coming down sch...i on  <#>  at nus high sch liao...\n",
       "Name: clean_text, dtype: object"
      ]
     },
     "execution_count": 16,
     "metadata": {},
     "output_type": "execute_result"
    }
   ],
   "source": [
    "train_singlish_df.head()"
   ]
  },
  {
   "cell_type": "code",
   "execution_count": 17,
   "metadata": {},
   "outputs": [
    {
     "data": {
      "text/plain": [
       "0                                                                                                                           bugis oso near wat...\n",
       "1                                 go until jurong point, crazy.. available only in bugis n great world la e buffet... cine there got amore wat...\n",
       "2                                                                                                  i dunno until when... lets go learn pilates...\n",
       "3    den only weekdays got special price... haiz... cant eat liao... cut nails oso muz wait until i finish drivin wat, lunch still muz eat wat...\n",
       "5                                                                               m walking in citylink now ü faster come down... me very hungry...\n",
       "Name: clean_text, dtype: object"
      ]
     },
     "execution_count": 17,
     "metadata": {},
     "output_type": "execute_result"
    }
   ],
   "source": [
    "test_singlish_df.head()"
   ]
  },
  {
   "cell_type": "code",
   "execution_count": 18,
   "metadata": {},
   "outputs": [
    {
     "name": "stdout",
     "output_type": "stream",
     "text": [
      "Size of train Singlish dataset = 10000\n",
      "Size of test Singlish dataset = 45835\n"
     ]
    }
   ],
   "source": [
    "print(f'Size of train Singlish dataset = {len(train_singlish_df)}')\n",
    "print(f'Size of test Singlish dataset = {len(test_singlish_df)}')"
   ]
  },
  {
   "cell_type": "code",
   "execution_count": 19,
   "metadata": {},
   "outputs": [],
   "source": [
    "#Create the Singlish train and test datasets as files\n",
    "with open('train_singlish.txt', mode='w', encoding='utf-8') as f:\n",
    "    f.write(train_singlish_df.to_string(header=False, index=False))\n",
    "    \n",
    "with open('test_singlish.txt', mode='w', encoding='utf-8') as f:\n",
    "    f.write(test_singlish_df.to_string(header=False, index=False))"
   ]
  },
  {
   "cell_type": "code",
   "execution_count": 20,
   "metadata": {},
   "outputs": [],
   "source": [
    "from nltk.util import pad_sequence\n",
    "from nltk.util import bigrams\n",
    "from nltk.util import ngrams\n",
    "from nltk.util import everygrams\n",
    "from nltk.lm.preprocessing import pad_both_ends\n",
    "from nltk.lm.preprocessing import flatten"
   ]
  },
  {
   "cell_type": "code",
   "execution_count": 21,
   "metadata": {},
   "outputs": [],
   "source": [
    "try: # Use the default NLTK tokenizer.\n",
    "    from nltk import word_tokenize, sent_tokenize \n",
    "    # Testing whether it works. \n",
    "    # Sometimes it doesn't work on some machines because of setup issues.\n",
    "    word_tokenize(sent_tokenize(\"This is a foobar sentence. Yes it is.\")[0])\n",
    "except: # Use a naive sentence tokenizer and toktok.\n",
    "    import re\n",
    "    from nltk.tokenize import ToktokTokenizer\n",
    "    # See https://stackoverflow.com/a/25736515/610569\n",
    "    sent_tokenize = lambda x: re.split(r'(?<=[^A-Z].[.?]) +(?=[A-Z])', x)\n",
    "    # Use the toktok tokenizer that requires no dependencies.\n",
    "    toktok = ToktokTokenizer()\n",
    "    word_tokenize = word_tokenize = toktok.tokenize"
   ]
  },
  {
   "cell_type": "code",
   "execution_count": 22,
   "metadata": {},
   "outputs": [],
   "source": [
    "import os\n",
    "import requests\n",
    "import io #codecs\n",
    "\n",
    "\n",
    "# Text version of https://kilgarriff.co.uk/Publications/2005-K-lineer.pdf\n",
    "if os.path.isfile('train_singlish.txt'):\n",
    "    with io.open('train_singlish.txt', encoding='utf-8') as fin:\n",
    "        text = fin.read()"
   ]
  },
  {
   "cell_type": "code",
   "execution_count": 23,
   "metadata": {},
   "outputs": [],
   "source": [
    "# Tokenize the text.\n",
    "tokenized_text = [list(map(str.lower, word_tokenize(sent))) \n",
    "                  for sent in sent_tokenize(text)]"
   ]
  },
  {
   "cell_type": "code",
   "execution_count": 24,
   "metadata": {},
   "outputs": [
    {
     "data": {
      "text/plain": [
       "['enjoy',\n",
       " 'ur',\n",
       " 'holiday..',\n",
       " 'cosplay',\n",
       " 'fail',\n",
       " 'woo',\n",
       " 'wah',\n",
       " 'got',\n",
       " 'new',\n",
       " 'bags',\n",
       " 'again',\n",
       " 'eh',\n",
       " '.']"
      ]
     },
     "execution_count": 24,
     "metadata": {},
     "output_type": "execute_result"
    }
   ],
   "source": [
    "tokenized_text[0]"
   ]
  },
  {
   "cell_type": "code",
   "execution_count": 25,
   "metadata": {},
   "outputs": [
    {
     "name": "stdout",
     "output_type": "stream",
     "text": [
      "                                                                                                                                              enjoy ur holiday..\n",
      "                                                                                                                                                    cosplay fail\n",
      "                                                                                                                                  woo wah got new bags again eh.\n",
      "  haha i was bored! hahaha fell asleep for awhile! hahaha hmm:p hahaokay! we do work then (: btw your personal statement! haha omg socool! what you all playing!\n",
      "                                                                                                          i coming down sch...i on  <#>  at nus high sch liao...\n",
      "                                                                                                                                                    he gave ans?\n",
      "                                  \n"
     ]
    }
   ],
   "source": [
    "print(text[:1000])"
   ]
  },
  {
   "cell_type": "code",
   "execution_count": 26,
   "metadata": {},
   "outputs": [],
   "source": [
    "from nltk.lm.preprocessing import padded_everygram_pipeline\n",
    "\n",
    "# Preprocess the tokenized text for 3-grams language modelling\n",
    "n = 3\n",
    "train_data, padded_sents = padded_everygram_pipeline(n, tokenized_text)"
   ]
  },
  {
   "cell_type": "code",
   "execution_count": 27,
   "metadata": {},
   "outputs": [],
   "source": [
    "from nltk.lm import MLE\n",
    "model = MLE(n) # Lets train a 3-grams model, previously we set n=3"
   ]
  },
  {
   "cell_type": "code",
   "execution_count": 28,
   "metadata": {},
   "outputs": [
    {
     "data": {
      "text/plain": [
       "0"
      ]
     },
     "execution_count": 28,
     "metadata": {},
     "output_type": "execute_result"
    }
   ],
   "source": [
    "len(model.vocab)"
   ]
  },
  {
   "cell_type": "code",
   "execution_count": 29,
   "metadata": {},
   "outputs": [
    {
     "name": "stdout",
     "output_type": "stream",
     "text": [
      "<Vocabulary with cutoff=1 unk_label='<UNK>' and 12369 items>\n"
     ]
    }
   ],
   "source": [
    "model.fit(train_data, padded_sents)\n",
    "print(model.vocab)"
   ]
  },
  {
   "cell_type": "code",
   "execution_count": 30,
   "metadata": {},
   "outputs": [
    {
     "data": {
      "text/plain": [
       "12369"
      ]
     },
     "execution_count": 30,
     "metadata": {},
     "output_type": "execute_result"
    }
   ],
   "source": [
    "len(model.vocab)"
   ]
  },
  {
   "cell_type": "code",
   "execution_count": 31,
   "metadata": {},
   "outputs": [
    {
     "name": "stdout",
     "output_type": "stream",
     "text": [
      "('enjoy', 'ur', 'holiday..', 'cosplay', 'fail', 'woo', 'wah', 'got', 'new', 'bags', 'again', 'eh', '.')\n"
     ]
    }
   ],
   "source": [
    "print(model.vocab.lookup(tokenized_text[0]))"
   ]
  },
  {
   "cell_type": "code",
   "execution_count": 32,
   "metadata": {},
   "outputs": [
    {
     "name": "stdout",
     "output_type": "stream",
     "text": [
      "<NgramCounter with 3 ngram orders and 453585 ngrams>\n"
     ]
    }
   ],
   "source": [
    "print(model.counts)"
   ]
  },
  {
   "cell_type": "code",
   "execution_count": 33,
   "metadata": {},
   "outputs": [
    {
     "data": {
      "text/plain": [
       "42"
      ]
     },
     "execution_count": 33,
     "metadata": {},
     "output_type": "execute_result"
    }
   ],
   "source": [
    "model.counts['meh'] # i.e. Count('meh')"
   ]
  },
  {
   "cell_type": "code",
   "execution_count": 34,
   "metadata": {},
   "outputs": [
    {
     "data": {
      "text/plain": [
       "0.00025995890173553517"
      ]
     },
     "execution_count": 34,
     "metadata": {},
     "output_type": "execute_result"
    }
   ],
   "source": [
    "model.score('meh') # P('meh')"
   ]
  },
  {
   "cell_type": "code",
   "execution_count": 35,
   "metadata": {},
   "outputs": [
    {
     "name": "stdout",
     "output_type": "stream",
     "text": [
      "['<s>', '<s>', 'look', 'c', '...', 'not', 'very', 'heavy', 'when', 'someone', 'is', 'in', 'trouble', '.', '</s>', '</s>', '</s>', '</s>', '</s>', '</s>']\n"
     ]
    }
   ],
   "source": [
    "print(model.generate(20, random_seed=321))"
   ]
  },
  {
   "cell_type": "code",
   "execution_count": 36,
   "metadata": {},
   "outputs": [],
   "source": [
    "from nltk.tokenize.treebank import TreebankWordDetokenizer\n",
    "\n",
    "detokenize = TreebankWordDetokenizer().detokenize\n",
    "\n",
    "def generate_sent(model, num_words, random_seed=42):\n",
    "    \"\"\"\n",
    "    :param model: An ngram language model from `nltk.lm.model`.\n",
    "    :param num_words: Max no. of words to generate.\n",
    "    :param random_seed: Seed value for random.\n",
    "    \"\"\"\n",
    "    content = []\n",
    "    for token in model.generate(num_words, random_seed=random_seed):\n",
    "        if token == '<s>':\n",
    "            continue\n",
    "        if token == '</s>':\n",
    "            break\n",
    "        content.append(token)\n",
    "    return detokenize(content)"
   ]
  },
  {
   "cell_type": "code",
   "execution_count": 37,
   "metadata": {},
   "outputs": [
    {
     "name": "stdout",
     "output_type": "stream",
     "text": [
      "look c...not very heavy when someone is in trouble.\n",
      "the situations.. i will be wonderful in ur lif.. im sure dat im der in urs also.., same question\n",
      "n schedule for game innovation presentation.\n",
      "have take care around <decimal> \\nn: damo.vod; ;; \\ntel; cell: + <#\n",
      "free.\n",
      "2 do you know you are first.\n",
      "tell us okay?\n",
      "in t...sure.\n",
      "sheet aa gyi h tayari shuru kar do 7-rose day 8-propose day 9-chochlate day <#>.\n"
     ]
    }
   ],
   "source": [
    "for i in range(321, 330):\n",
    "    print(generate_sent(model, 20, random_seed=i))"
   ]
  },
  {
   "cell_type": "code",
   "execution_count": null,
   "metadata": {},
   "outputs": [],
   "source": []
  }
 ],
 "metadata": {
  "kernelspec": {
   "display_name": "Python 3",
   "language": "python",
   "name": "python3"
  },
  "language_info": {
   "codemirror_mode": {
    "name": "ipython",
    "version": 3
   },
   "file_extension": ".py",
   "mimetype": "text/x-python",
   "name": "python",
   "nbconvert_exporter": "python",
   "pygments_lexer": "ipython3",
   "version": "3.7.6"
  }
 },
 "nbformat": 4,
 "nbformat_minor": 4
}
